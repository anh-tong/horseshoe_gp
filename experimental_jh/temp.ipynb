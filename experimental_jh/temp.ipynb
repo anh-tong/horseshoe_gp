{
 "cells": [
  {
   "cell_type": "code",
   "execution_count": 7,
   "metadata": {},
   "outputs": [
    {
     "ename": "ModuleNotFoundError",
     "evalue": "No module named 'horseshoe_gp'",
     "output_type": "error",
     "traceback": [
      "\u001b[1;31m---------------------------------------------------------------------------\u001b[0m",
      "\u001b[1;31mModuleNotFoundError\u001b[0m                       Traceback (most recent call last)",
      "\u001b[1;32m<ipython-input-7-2bef6172a9a9>\u001b[0m in \u001b[0;36m<module>\u001b[1;34m\u001b[0m\n\u001b[0;32m     10\u001b[0m \u001b[1;32mfrom\u001b[0m \u001b[0mgpytorch\u001b[0m\u001b[1;33m.\u001b[0m\u001b[0mmlls\u001b[0m \u001b[1;32mimport\u001b[0m \u001b[0mVariationalELBO\u001b[0m\u001b[1;33m,\u001b[0m \u001b[0mPredictiveLogLikelihood\u001b[0m\u001b[1;33m\u001b[0m\u001b[1;33m\u001b[0m\u001b[0m\n\u001b[0;32m     11\u001b[0m \u001b[1;33m\u001b[0m\u001b[0m\n\u001b[1;32m---> 12\u001b[1;33m \u001b[1;32mfrom\u001b[0m \u001b[0mhorseshoe_gp\u001b[0m\u001b[1;33m.\u001b[0m\u001b[0msrc\u001b[0m\u001b[1;33m.\u001b[0m\u001b[0mstructural_sgp\u001b[0m \u001b[1;32mimport\u001b[0m \u001b[0mVariationalGP\u001b[0m\u001b[1;33m,\u001b[0m \u001b[0mStructuralSparseGP\u001b[0m\u001b[1;33m\u001b[0m\u001b[1;33m\u001b[0m\u001b[0m\n\u001b[0m\u001b[0;32m     13\u001b[0m \u001b[0meval\u001b[0m\u001b[1;33m(\u001b[0m\u001b[1;34m\"from horseshoe_gp.src.structural_sgp import \"\u001b[0m \u001b[1;33m+\u001b[0m \u001b[0margs\u001b[0m\u001b[1;33m.\u001b[0m\u001b[0mselector\u001b[0m\u001b[1;33m)\u001b[0m\u001b[1;33m\u001b[0m\u001b[1;33m\u001b[0m\u001b[0m\n\u001b[0;32m     14\u001b[0m \u001b[1;32mfrom\u001b[0m \u001b[0mhorseshoe_gp\u001b[0m\u001b[1;33m.\u001b[0m\u001b[0msrc\u001b[0m\u001b[1;33m.\u001b[0m\u001b[0mmean_field_hs\u001b[0m \u001b[1;32mimport\u001b[0m \u001b[0mMeanFieldHorseshoe\u001b[0m\u001b[1;33m,\u001b[0m \u001b[0mVariatioalHorseshoe\u001b[0m\u001b[1;33m\u001b[0m\u001b[1;33m\u001b[0m\u001b[0m\n",
      "\u001b[1;31mModuleNotFoundError\u001b[0m: No module named 'horseshoe_gp'"
     ]
    }
   ],
   "source": [
    "args = {}\n",
    "\n",
    "import torch\n",
    "import math\n",
    "\n",
    "import gpytorch\n",
    "from gpytorch.means import ZeroMean\n",
    "from gpytorch.kernels import RBFKernel, PeriodicKernel\n",
    "from gpytorch.likelihoods import GaussianLikelihood\n",
    "from gpytorch.mlls import VariationalELBO, PredictiveLogLikelihood\n",
    "\n",
    "from horseshoe_gp.src.structural_sgp import VariationalGP, StructuralSparseGP\n",
    "eval(\"from horseshoe_gp.src.structural_sgp import \" + args.selector)\n",
    "from horseshoe_gp.src.mean_field_hs import MeanFieldHorseshoe, VariatioalHorseshoe\n",
    "\n",
    "from botorch.fit import fit_gpytorch_model\n",
    "eval(\"from botorch.acquisition.analytic import \" + args.acq_fun)\n",
    "\n",
    "from utils import branin_rcos, six_hump_camel_back, hartman_6, goldstein_price, rosenbrock\n",
    "\n",
    "# set up kernels\n",
    "n_kernels = 5\n",
    "means = [ZeroMean()] * n_kernels\n",
    "kernels = [RBFKernel()] * n_kernels\n",
    "\n",
    "n_inducing = 10\n",
    "inducing_points = torch.linspace(0, 1, n_inducing)\n",
    "\n",
    "# GP for each kernel\n",
    "gps = []\n",
    "for mean, kernel in zip(means, kernels):\n",
    "    gp = VariationalGP(mean, kernel, inducing_points)\n",
    "    gps.append(gp)\n",
    "\n",
    "eval(\"selector = \" + args.selector + \"(dim=n_kernels, A=1., B=1.)\")\n",
    "eval(\"model = \" + args.model + \"(gps, selector)\")\n",
    "\n",
    "dim = 5\n",
    "num_restarts = 3\n",
    "num_raw_samples = 100\n",
    "\n",
    "likelihood = GaussianLikelihood()\n",
    "elbo = PredictiveLogLikelihood(likelihood, model, num_data=args.num_raw_samples)\n",
    "optimizer = torch.optim.Adam(list(model.parameters()) + list(likelihood.parameters()), lr=0.01) \n",
    "    "
   ]
  },
  {
   "cell_type": "code",
   "execution_count": 11,
   "metadata": {},
   "outputs": [
    {
     "data": {
      "text/plain": [
       "tensor([[[0.],\n",
       "         [0.]],\n",
       "\n",
       "        [[0.],\n",
       "         [0.]],\n",
       "\n",
       "        [[0.],\n",
       "         [0.]]])"
      ]
     },
     "execution_count": 11,
     "metadata": {},
     "output_type": "execute_result"
    }
   ],
   "source": [
    "torch.zeros(3,2,1)"
   ]
  },
  {
   "cell_type": "code",
   "execution_count": null,
   "metadata": {},
   "outputs": [],
   "source": [
    "for i in range(100):\n",
    "    optimizer.zero_grad()\n",
    "    selector.update_tau_lambda()\n",
    "    output = model(train_x)\n",
    "    loss = - elbo(output, train_y)\n",
    "    loss.backward(retain_graph=True)\n",
    "    optimizer.step()\n",
    "    print(\"Iter: {} \\t Loss: {:.2f}\".format(i, loss.item()))\n",
    "\n",
    "for tries in range(NUM_TRIALS):\n",
    "    "
   ]
  },
  {
   "cell_type": "code",
   "execution_count": 12,
   "metadata": {},
   "outputs": [
    {
     "ename": "ModuleNotFoundError",
     "evalue": "No module named 'utils'",
     "output_type": "error",
     "traceback": [
      "\u001b[1;31m---------------------------------------------------------------------------\u001b[0m",
      "\u001b[1;31mModuleNotFoundError\u001b[0m                       Traceback (most recent call last)",
      "\u001b[1;32m<ipython-input-12-69d9c258b31d>\u001b[0m in \u001b[0;36m<module>\u001b[1;34m\u001b[0m\n\u001b[1;32m----> 1\u001b[1;33m \u001b[1;32mimport\u001b[0m \u001b[0mutils\u001b[0m\u001b[1;33m\u001b[0m\u001b[1;33m\u001b[0m\u001b[0m\n\u001b[0m",
      "\u001b[1;31mModuleNotFoundError\u001b[0m: No module named 'utils'"
     ]
    }
   ],
   "source": [
    "import utils"
   ]
  },
  {
   "cell_type": "code",
   "execution_count": 15,
   "metadata": {},
   "outputs": [],
   "source": [
    "from bayesian_optimization.utils import branin_rcos"
   ]
  },
  {
   "cell_type": "code",
   "execution_count": 16,
   "metadata": {},
   "outputs": [],
   "source": [
    "acq = branin_rcos()"
   ]
  },
  {
   "cell_type": "code",
   "execution_count": 17,
   "metadata": {},
   "outputs": [
    {
     "data": {
      "text/plain": [
       "<bayesian_optimization.utils.branin_rcos at 0x14111012208>"
      ]
     },
     "execution_count": 17,
     "metadata": {},
     "output_type": "execute_result"
    }
   ],
   "source": [
    "acq"
   ]
  },
  {
   "cell_type": "code",
   "execution_count": 18,
   "metadata": {},
   "outputs": [
    {
     "data": {
      "text/plain": [
       "tensor([[-5.,  0.],\n",
       "        [10., 15.]])"
      ]
     },
     "execution_count": 18,
     "metadata": {},
     "output_type": "execute_result"
    }
   ],
   "source": [
    "acq.bound"
   ]
  },
  {
   "cell_type": "code",
   "execution_count": 19,
   "metadata": {},
   "outputs": [
    {
     "ename": "AttributeError",
     "evalue": "type object 'branin_rcos' has no attribute 'bound'",
     "output_type": "error",
     "traceback": [
      "\u001b[1;31m---------------------------------------------------------------------------\u001b[0m",
      "\u001b[1;31mAttributeError\u001b[0m                            Traceback (most recent call last)",
      "\u001b[1;32m<ipython-input-19-8c663e809d26>\u001b[0m in \u001b[0;36m<module>\u001b[1;34m\u001b[0m\n\u001b[1;32m----> 1\u001b[1;33m \u001b[0mbranin_rcos\u001b[0m\u001b[1;33m.\u001b[0m\u001b[0mbound\u001b[0m\u001b[1;33m\u001b[0m\u001b[1;33m\u001b[0m\u001b[0m\n\u001b[0m",
      "\u001b[1;31mAttributeError\u001b[0m: type object 'branin_rcos' has no attribute 'bound'"
     ]
    }
   ],
   "source": [
    "branin_rcos.bound"
   ]
  },
  {
   "cell_type": "code",
   "execution_count": 21,
   "metadata": {},
   "outputs": [
    {
     "data": {
      "text/plain": [
       "torch.Size([100])"
      ]
     },
     "execution_count": 21,
     "metadata": {},
     "output_type": "execute_result"
    }
   ],
   "source": [
    "torch.linspace(0, 1, 100).shape\n"
   ]
  },
  {
   "cell_type": "code",
   "execution_count": 1,
   "metadata": {},
   "outputs": [
    {
     "ename": "ModuleNotFoundError",
     "evalue": "No module named 'gpytorch'",
     "output_type": "error",
     "traceback": [
      "\u001b[1;31m---------------------------------------------------------------------------\u001b[0m",
      "\u001b[1;31mModuleNotFoundError\u001b[0m                       Traceback (most recent call last)",
      "\u001b[1;32m<ipython-input-1-8b7747befa0d>\u001b[0m in \u001b[0;36m<module>\u001b[1;34m\u001b[0m\n\u001b[1;32m----> 1\u001b[1;33m \u001b[1;32mimport\u001b[0m \u001b[0mgpytorch\u001b[0m\u001b[1;33m\u001b[0m\u001b[1;33m\u001b[0m\u001b[0m\n\u001b[0m",
      "\u001b[1;31mModuleNotFoundError\u001b[0m: No module named 'gpytorch'"
     ]
    }
   ],
   "source": [
    "import gpytorch"
   ]
  },
  {
   "cell_type": "code",
   "execution_count": 2,
   "metadata": {},
   "outputs": [],
   "source": [
    "import torch"
   ]
  },
  {
   "cell_type": "code",
   "execution_count": null,
   "metadata": {},
   "outputs": [],
   "source": []
  }
 ],
 "metadata": {
  "kernelspec": {
   "display_name": "Python 3",
   "language": "python",
   "name": "python3"
  },
  "language_info": {
   "codemirror_mode": {
    "name": "ipython",
    "version": 3
   },
   "file_extension": ".py",
   "mimetype": "text/x-python",
   "name": "python",
   "nbconvert_exporter": "python",
   "pygments_lexer": "ipython3",
   "version": "3.7.7"
  }
 },
 "nbformat": 4,
 "nbformat_minor": 4
}
