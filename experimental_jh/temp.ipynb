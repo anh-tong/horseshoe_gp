{
 "cells": [
  {
   "cell_type": "code",
   "execution_count": 1,
   "metadata": {},
   "outputs": [
    {
     "ename": "TypeError",
     "evalue": "__init__() got an unexpected keyword argument 'descripition'",
     "output_type": "error",
     "traceback": [
      "\u001b[1;31m---------------------------------------------------------------------------\u001b[0m",
      "\u001b[1;31mTypeError\u001b[0m                                 Traceback (most recent call last)",
      "\u001b[1;32m<ipython-input-1-ae01e23647a9>\u001b[0m in \u001b[0;36m<module>\u001b[1;34m\u001b[0m\n\u001b[0;32m      1\u001b[0m \u001b[1;32mimport\u001b[0m \u001b[0margparse\u001b[0m\u001b[1;33m\u001b[0m\u001b[1;33m\u001b[0m\u001b[0m\n\u001b[0;32m      2\u001b[0m \u001b[1;33m\u001b[0m\u001b[0m\n\u001b[1;32m----> 3\u001b[1;33m \u001b[0mparser\u001b[0m \u001b[1;33m=\u001b[0m \u001b[0margparse\u001b[0m\u001b[1;33m.\u001b[0m\u001b[0mArgumentParser\u001b[0m\u001b[1;33m(\u001b[0m\u001b[0mdescripition\u001b[0m \u001b[1;33m=\u001b[0m \u001b[1;34m\"Options for BO experiments\"\u001b[0m\u001b[1;33m)\u001b[0m\u001b[1;33m\u001b[0m\u001b[1;33m\u001b[0m\u001b[0m\n\u001b[0m\u001b[0;32m      4\u001b[0m \u001b[1;33m\u001b[0m\u001b[0m\n\u001b[0;32m      5\u001b[0m parser.add_argument('--selector', '-s',\n",
      "\u001b[1;31mTypeError\u001b[0m: __init__() got an unexpected keyword argument 'descripition'"
     ]
    }
   ],
   "source": [
    "args = {}\n",
    "\n",
    "\n",
    "import math\n",
    "\n",
    "import gpytorch\n",
    "from gpytorch.means import ZeroMean\n",
    "from gpytorch.kernels import RBFKernel, PeriodicKernel\n",
    "from gpytorch.likelihoods import GaussianLikelihood\n",
    "from gpytorch.mlls import VariationalELBO, PredictiveLogLikelihood\n",
    "\n",
    "from horseshoe_gp.src.structural_sgp import VariationalGP, StructuralSparseGP\n",
    "eval(\"from horseshoe_gp.src.structural_sgp import \" + args.selector)\n",
    "from horseshoe_gp.src.mean_field_hs import MeanFieldHorseshoe, VariatioalHorseshoe\n",
    "\n",
    "from botorch.fit import fit_gpytorch_model\n",
    "eval(\"from botorch.acquisition.analytic import \" + args.acq_fun)\n",
    "\n",
    "from utils import branin_rcos, six_hump_camel_back, hartman_6, goldstein_price, rosenbrock\n",
    "\n",
    "# set up kernels\n",
    "n_kernels = 5\n",
    "means = [ZeroMean()] * n_kernels\n",
    "kernels = [RBFKernel()] * n_kernels\n",
    "\n",
    "n_inducing = 10\n",
    "inducing_points = torch.linspace(0, 1, n_inducing)\n",
    "\n",
    "# GP for each kernel\n",
    "gps = []\n",
    "for mean, kernel in zip(means, kernels):\n",
    "    gp = VariationalGP(mean, kernel, inducing_points)\n",
    "    gps.append(gp)\n",
    "\n",
    "eval(\"selector = \" + args.selector + \"(dim=n_kernels, A=1., B=1.)\")\n",
    "eval(\"model = \" + args.model + \"(gps, selector)\")\n",
    "\n",
    "dim = 5\n",
    "num_restarts = 3\n",
    "num_raw_samples = 100\n",
    "\n",
    "likelihood = GaussianLikelihood()\n",
    "elbo = PredictiveLogLikelihood(likelihood, model, num_data=args.num_raw_samples)\n",
    "optimizer = torch.optim.Adam(list(model.parameters()) + list(likelihood.parameters()), lr=0.01) \n",
    "    "
   ]
  },
  {
   "cell_type": "code",
   "execution_count": null,
   "metadata": {},
   "outputs": [],
   "source": [
    "for i in range(100):\n",
    "    optimizer.zero_grad()\n",
    "    selector.update_tau_lambda()\n",
    "    output = model(train_x)\n",
    "    loss = - elbo(output, train_y)\n",
    "    loss.backward(retain_graph=True)\n",
    "    optimizer.step()\n",
    "    print(\"Iter: {} \\t Loss: {:.2f}\".format(i, loss.item()))\n",
    "\n",
    "for tries in range(NUM_TRIALS):\n",
    "    "
   ]
  }
 ],
 "metadata": {
  "kernelspec": {
   "display_name": "Python 3",
   "language": "python",
   "name": "python3"
  },
  "language_info": {
   "codemirror_mode": {
    "name": "ipython",
    "version": 3
   },
   "file_extension": ".py",
   "mimetype": "text/x-python",
   "name": "python",
   "nbconvert_exporter": "python",
   "pygments_lexer": "ipython3",
   "version": "3.7.7"
  }
 },
 "nbformat": 4,
 "nbformat_minor": 4
}
