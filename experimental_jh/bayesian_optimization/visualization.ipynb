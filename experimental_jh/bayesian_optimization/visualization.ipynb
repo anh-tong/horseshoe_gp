{
 "cells": [
  {
   "cell_type": "code",
   "execution_count": 2,
   "metadata": {},
   "outputs": [],
   "source": [
    "import pandas as pd\n",
    "import os, sys\n",
    "import matplotlib.pyplot as plt"
   ]
  },
  {
   "cell_type": "code",
   "execution_count": 1,
   "metadata": {},
   "outputs": [
    {
     "ename": "NameError",
     "evalue": "name 'os' is not defined",
     "output_type": "error",
     "traceback": [
      "\u001b[1;31m---------------------------------------------------------------------------\u001b[0m",
      "\u001b[1;31mNameError\u001b[0m                                 Traceback (most recent call last)",
      "\u001b[1;32m<ipython-input-1-747341a441d4>\u001b[0m in \u001b[0;36m<module>\u001b[1;34m\u001b[0m\n\u001b[0;32m      1\u001b[0m \u001b[0mbench_funs\u001b[0m \u001b[1;33m=\u001b[0m \u001b[1;33m[\u001b[0m\u001b[1;34m\"branin_rcos\"\u001b[0m\u001b[1;33m,\u001b[0m \u001b[1;34m\"hartman_6\"\u001b[0m\u001b[1;33m,\u001b[0m \u001b[1;34m\"six_hump_camel_back\"\u001b[0m\u001b[1;33m]\u001b[0m\u001b[1;33m\u001b[0m\u001b[1;33m\u001b[0m\u001b[0m\n\u001b[0;32m      2\u001b[0m \u001b[0macq_funs\u001b[0m \u001b[1;33m=\u001b[0m \u001b[1;33m[\u001b[0m\u001b[1;34m\"EI\"\u001b[0m\u001b[1;33m,\u001b[0m \u001b[1;34m\"POI\"\u001b[0m\u001b[1;33m,\u001b[0m \u001b[1;34m\"UCB\"\u001b[0m\u001b[1;33m]\u001b[0m\u001b[1;33m\u001b[0m\u001b[1;33m\u001b[0m\u001b[0m\n\u001b[1;32m----> 3\u001b[1;33m \u001b[0mdir_models\u001b[0m \u001b[1;33m=\u001b[0m \u001b[1;33m[\u001b[0m\u001b[0mx\u001b[0m \u001b[1;32mfor\u001b[0m \u001b[0mx\u001b[0m \u001b[1;32min\u001b[0m \u001b[0mos\u001b[0m\u001b[1;33m.\u001b[0m\u001b[0mlistdir\u001b[0m\u001b[1;33m(\u001b[0m\u001b[1;33m)\u001b[0m \u001b[1;32mif\u001b[0m \u001b[1;34m\"GP\"\u001b[0m \u001b[1;32min\u001b[0m \u001b[0mx\u001b[0m\u001b[1;33m]\u001b[0m\u001b[1;33m\u001b[0m\u001b[1;33m\u001b[0m\u001b[0m\n\u001b[0m\u001b[0;32m      4\u001b[0m \u001b[1;33m\u001b[0m\u001b[0m\n\u001b[0;32m      5\u001b[0m \u001b[0mfig\u001b[0m\u001b[1;33m,\u001b[0m \u001b[0maxs\u001b[0m \u001b[1;33m=\u001b[0m \u001b[0mplt\u001b[0m\u001b[1;33m.\u001b[0m\u001b[0msubplots\u001b[0m\u001b[1;33m(\u001b[0m\u001b[0mlen\u001b[0m\u001b[1;33m(\u001b[0m\u001b[0mbench_funs\u001b[0m\u001b[1;33m)\u001b[0m\u001b[1;33m,\u001b[0m \u001b[0mlen\u001b[0m\u001b[1;33m(\u001b[0m\u001b[0macq_funs\u001b[0m\u001b[1;33m)\u001b[0m\u001b[1;33m,\u001b[0m \u001b[0mfigsize\u001b[0m \u001b[1;33m=\u001b[0m \u001b[1;33m(\u001b[0m\u001b[1;36m15\u001b[0m\u001b[1;33m,\u001b[0m \u001b[1;36m12\u001b[0m\u001b[1;33m)\u001b[0m\u001b[1;33m)\u001b[0m\u001b[1;33m\u001b[0m\u001b[1;33m\u001b[0m\u001b[0m\n",
      "\u001b[1;31mNameError\u001b[0m: name 'os' is not defined"
     ]
    }
   ],
   "source": [
    "bench_funs = [\"branin_rcos\", \"hartman_6\", \"six_hump_camel_back\"]\n",
    "acq_funs = [\"EI\", \"POI\", \"UCB\"]\n",
    "dir_models = [x for x in os.listdir() if \"GP\" in x]\n",
    "\n",
    "fig, axs = plt.subplots(len(bench_funs), len(acq_funs), figsize = (15, 12))\n",
    "\n",
    "for row_ind, bench_fun in enumerate(bench_funs):\n",
    "    for col_ind, acq_fun in enumerate(acq_funs):\n",
    "        axs[row_ind, col_ind].set_title(acq_fun + \" at \" + bench_fun)\n",
    "\n",
    "legends = []\n",
    "for dir_model in dir_models:\n",
    "    if os.listdir(dir_model):\n",
    "        legends.append(dir_model)\n",
    "        for csv_file in os.listdir(dir_model):\n",
    "            data = pd.read_csv(os.getcwd() + \"/\" + dir_model + \"/\" + csv_file)\n",
    "            for row_ind, bench_fun in enumerate(bench_funs):\n",
    "                if bench_fun in csv_file:\n",
    "                    for col_ind, acq_fun in enumerate(acq_funs):\n",
    "                        if acq_fun in csv_file:\n",
    "                            mean = data.iloc[:,1:11].mean(axis = 1)\n",
    "                            std = data.iloc[:,1:11].mean(axis = 1)\n",
    "                            axs[row_ind, col_ind].plot(mean)\n",
    "                            axs[row_ind, col_ind].fill_between(mean - std, mean + std)\n",
    "                            break\n",
    "                    break\n",
    "\n",
    "plt.legend(legends, loc = \"right\")"
   ]
  },
  {
   "cell_type": "code",
   "execution_count": null,
   "metadata": {},
   "outputs": [],
   "source": []
  }
 ],
 "metadata": {
  "kernelspec": {
   "display_name": "Python 3",
   "language": "python",
   "name": "python3"
  },
  "language_info": {
   "codemirror_mode": {
    "name": "ipython",
    "version": 3
   },
   "file_extension": ".py",
   "mimetype": "text/x-python",
   "name": "python",
   "nbconvert_exporter": "python",
   "pygments_lexer": "ipython3",
   "version": "3.7.7"
  }
 },
 "nbformat": 4,
 "nbformat_minor": 4
}
